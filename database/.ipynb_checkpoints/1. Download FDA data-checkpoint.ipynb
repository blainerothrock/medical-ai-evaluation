{
 "cells": [
  {
   "cell_type": "markdown",
   "metadata": {},
   "source": [
    "# Downloading all 510ks and De Novos from FDA website"
   ]
  },
  {
   "cell_type": "code",
   "execution_count": 10,
   "metadata": {},
   "outputs": [],
   "source": [
    "import os, sys\n",
    "import pandas as pd\n",
    "from bs4 import BeautifulSoup\n",
    "import requests\n",
    "import PyPDF2\n",
    "\n",
    "os.makedirs('static', exist_ok=True)\n",
    "\n",
    "import fitz\n",
    "import re"
   ]
  },
  {
   "cell_type": "code",
   "execution_count": 12,
   "metadata": {},
   "outputs": [
    {
     "ename": "FileNotFoundError",
     "evalue": "[Errno 2] No such file or directory: 'raw_files/pmn96cur.txt'",
     "output_type": "error",
     "traceback": [
      "\u001b[0;31m---------------------------------------------------------------------------\u001b[0m",
      "\u001b[0;31mFileNotFoundError\u001b[0m                         Traceback (most recent call last)",
      "\u001b[1;32m/Users/b/develop/medical-ai-evaluation/database/.ipynb_checkpoints/1. Download FDA data-checkpoint.ipynb Cell 3'\u001b[0m in \u001b[0;36m<cell line: 2>\u001b[0;34m()\u001b[0m\n\u001b[1;32m      <a href='vscode-notebook-cell:/Users/b/develop/medical-ai-evaluation/database/.ipynb_checkpoints/1.%20Download%20FDA%20data-checkpoint.ipynb#ch0000002?line=0'>1</a>\u001b[0m knums \u001b[39m=\u001b[39m []\n\u001b[0;32m----> <a href='vscode-notebook-cell:/Users/b/develop/medical-ai-evaluation/database/.ipynb_checkpoints/1.%20Download%20FDA%20data-checkpoint.ipynb#ch0000002?line=1'>2</a>\u001b[0m \u001b[39mwith\u001b[39;00m \u001b[39mopen\u001b[39;49m(os\u001b[39m.\u001b[39;49mpath\u001b[39m.\u001b[39;49mjoin(\u001b[39m'\u001b[39;49m\u001b[39mraw_files\u001b[39;49m\u001b[39m'\u001b[39;49m, \u001b[39m'\u001b[39;49m\u001b[39mpmn96cur.txt\u001b[39;49m\u001b[39m'\u001b[39;49m), \u001b[39m'\u001b[39;49m\u001b[39mr\u001b[39;49m\u001b[39m'\u001b[39;49m, errors\u001b[39m=\u001b[39;49m\u001b[39m'\u001b[39;49m\u001b[39mignore\u001b[39;49m\u001b[39m'\u001b[39;49m) \u001b[39mas\u001b[39;00m fp:\n\u001b[1;32m      <a href='vscode-notebook-cell:/Users/b/develop/medical-ai-evaluation/database/.ipynb_checkpoints/1.%20Download%20FDA%20data-checkpoint.ipynb#ch0000002?line=2'>3</a>\u001b[0m     lines \u001b[39m=\u001b[39m fp\u001b[39m.\u001b[39mreadlines()\n\u001b[1;32m      <a href='vscode-notebook-cell:/Users/b/develop/medical-ai-evaluation/database/.ipynb_checkpoints/1.%20Download%20FDA%20data-checkpoint.ipynb#ch0000002?line=3'>4</a>\u001b[0m     \u001b[39mfor\u001b[39;00m line \u001b[39min\u001b[39;00m lines[\u001b[39m1\u001b[39m:]:\n",
      "\u001b[0;31mFileNotFoundError\u001b[0m: [Errno 2] No such file or directory: 'raw_files/pmn96cur.txt'"
     ]
    }
   ],
   "source": [
    "knums = []\n",
    "with open(os.path.join('raw_files', 'pmn96cur.txt'), 'r', errors='ignore') as fp:\n",
    "    lines = fp.readlines()\n",
    "    for line in lines[1:]:\n",
    "        features = line.split('|')\n",
    "        if len(features) >= 11:\n",
    "            date = features[11]\n",
    "            year = int(date.split('/')[2])\n",
    "            if year >= 2015:\n",
    "                knums.append(features[0])\n"
   ]
  },
  {
   "cell_type": "code",
   "execution_count": 3,
   "metadata": {},
   "outputs": [
    {
     "data": {
      "text/plain": [
       "17817"
      ]
     },
     "execution_count": 3,
     "metadata": {},
     "output_type": "execute_result"
    }
   ],
   "source": [
    "len(knums)"
   ]
  },
  {
   "cell_type": "code",
   "execution_count": 8,
   "metadata": {},
   "outputs": [
    {
     "name": "stdout",
     "output_type": "stream",
     "text": [
      "0\n",
      "1000\n",
      "2000\n",
      "3000\n",
      "4000\n",
      "5000\n",
      "6000\n",
      "7000\n",
      "8000\n",
      "9000\n",
      "10000\n",
      "11000\n",
      "12000\n",
      "13000\n",
      "14000\n",
      "15000\n",
      "16000\n",
      "17000\n"
     ]
    }
   ],
   "source": [
    "entries = []\n",
    "\n",
    "for i, approval in enumerate(knums):\n",
    "    if i % 1000 == 0: print(i)\n",
    "    if approval.startswith('DEN'):\n",
    "        fda_link = link_deno\n",
    "    elif approval.startswith('K'):\n",
    "        fda_link = link_510k\n",
    "    else:\n",
    "        break\n",
    "        \n",
    "    # Download HTML from FDA website\n",
    "    if os.path.exists('FDA_htmls/{}.html'.format(approval)):\n",
    "        continue\n",
    "    r = requests.get(fda_link+approval)\n",
    "    with open('FDA_htmls/{}.html'.format(approval), 'w') as fp:\n",
    "        fp.write(r.text)\n",
    "        \n",
    "    # Parse metadata from FDA website\n",
    "    with open('FDA_htmls/{}.html'.format(approval), 'r') as fp:\n",
    "        soup = BeautifulSoup(fp)\n",
    "    entry = {}\n",
    "    entry['query_id'] = approval\n",
    "    for table in soup.findAll('table', {'align': 'center', 'style': 'text-transform: capitalize'}):\n",
    "        for tr in table.findAll('tr'):\n",
    "            try:\n",
    "                th = tr.find('th').text\n",
    "            except:\n",
    "                continue\n",
    "\n",
    "            for k, v in mapping.items():\n",
    "                if k in th:\n",
    "                    if v == 'summary_link':\n",
    "                        link = tr.find('a', href=True)['href']\n",
    "                        if len(link) == 0:\n",
    "                            link = tr.find('A', href=True)['HREF']\n",
    "                        entry[v] = link.strip().lower().replace('\\n', ' ').replace('\\r', ' ').replace('\\t', ' ')\n",
    "                    else:\n",
    "                        text = tr.find('td').text\n",
    "                        if len(text) > 0:\n",
    "                            entry[v] = text.strip().lower().replace('\\n', ' ').replace('\\r', ' ').replace('\\t', ' ')\n",
    "    if len(entry) > 0:                    \n",
    "        entries.append(entry)\n",
    "        if i % 100 == 0:\n",
    "            df = pd.DataFrame(entries)\n",
    "            df.to_csv('scrape.csv')\n",
    "        \n",
    "    else:\n",
    "        raise ValueError('No values found for HTML file {}'.format(approval))\n",
    "    \n",
    "    # Download PDF from FDA website\n",
    "    if 'summary_link' not in entry:\n",
    "        continue\n",
    "    r = requests.get(entry['summary_link'])\n",
    "    with open('FDA_pdfs/{}.pdf'.format(entry['approval_number']), 'wb') as fp:\n",
    "        fp.write(r.content)\n",
    "    \n",
    "    # Extract text from FDA website\n",
    "    try:\n",
    "        with fitz.open('FDA_pdfs/{}.pdf'.format(entry['approval_number'])) as fp:\n",
    "            pdf_text = \"\"\n",
    "            for i in fp:\n",
    "                pdf_text +=i.getText()\n",
    "        pdf_text = re.sub('[^0-9a-zA-Z]+', ' ', pdf_text)\n",
    "        with open('FDA_texts/{}.txt'.format(entry['approval_number']), 'w') as fp:\n",
    "            fp.write(pdf_text)\n",
    "    except:\n",
    "        continue\n",
    "\n",
    "df = pd.DataFrame(entries)\n",
    "df.to_csv('aiml_dfs/scrape.csv')"
   ]
  },
  {
   "cell_type": "markdown",
   "metadata": {},
   "source": [
    "# Download PMAs from FDA database"
   ]
  },
  {
   "cell_type": "code",
   "execution_count": 10,
   "metadata": {},
   "outputs": [],
   "source": [
    "nums = []\n",
    "with open('raw_files/pma.txt', 'r', errors='ignore') as fp:\n",
    "    lines = fp.readlines()\n",
    "    for line in lines[1:]:\n",
    "        features = line.split('|')\n",
    "        if len(features) >= 17:\n",
    "            date = features[17]\n",
    "            year = int(date.split('/')[2])\n",
    "            if year >= 2015:\n",
    "                nums.append(features[0])\n"
   ]
  },
  {
   "cell_type": "code",
   "execution_count": 11,
   "metadata": {},
   "outputs": [],
   "source": [
    "link_pma = 'https://www.accessdata.fda.gov/scripts/cdrh/cfdocs/cfpma/pma.cfm?id='\n"
   ]
  },
  {
   "cell_type": "code",
   "execution_count": 20,
   "metadata": {},
   "outputs": [
    {
     "name": "stdout",
     "output_type": "stream",
     "text": [
      "0\n",
      "1000\n",
      "2000\n",
      "3000\n",
      "4000\n",
      "5000\n",
      "6000\n",
      "7000\n",
      "8000\n",
      "9000\n",
      "10000\n",
      "11000\n",
      "12000\n",
      "13000\n",
      "14000\n",
      "15000\n"
     ]
    }
   ],
   "source": [
    "entries = []\n",
    "\n",
    "for i, approval in enumerate(nums):\n",
    "    if i % 1000 == 0: print(i)\n",
    "        \n",
    "    # Download HTML from FDA website\n",
    "    if os.path.exists('FDA_htmls/{}.html'.format(approval)):\n",
    "        continue\n",
    "    r = requests.get(link_pma+approval)\n",
    "    with open('FDA_htmls/{}.html'.format(approval), 'w') as fp:\n",
    "        fp.write(r.text)\n",
    "        \n",
    "    # Parse metadata from FDA website\n",
    "    with open('FDA_htmls/{}.html'.format(approval), 'r') as fp:\n",
    "        soup = BeautifulSoup(fp)\n",
    "    entry = {}\n",
    "    entry['query_id'] = approval\n",
    "    for table in soup.findAll('table', {'align': 'center', 'style': 'text-transform: capitalize'}):\n",
    "        for tr in table.findAll('tr'):\n",
    "            if 'Summary' in tr.text:\n",
    "                link = tr.find('a', href=True)['href']\n",
    "                if len(link) == 0:\n",
    "                    link = tr.find('A', href=True)['HREF']\n",
    "                entry['summary_link'] = link.strip().lower().replace('\\n', ' ').replace('\\r', ' ').replace('\\t', ' ')\n",
    "                #print(entry['summary_link'])\n",
    "    \n",
    "#     else:\n",
    "#         raise ValueError('No values found for HTML file {}'.format(approval))\n",
    "    \n",
    "    # Download PDF from FDA website\n",
    "    if 'summary_link' not in entry:\n",
    "        continue\n",
    "    r = requests.get(entry['summary_link'])\n",
    "    with open('FDA_pdfs/{}.pdf'.format(entry['query_id']), 'wb') as fp:\n",
    "        fp.write(r.content)\n",
    "    \n",
    "    # Extract text from FDA website\n",
    "    try:\n",
    "        with fitz.open('FDA_pdfs/{}.pdf'.format(entry['query_id'])) as fp:\n",
    "            pdf_text = \"\"\n",
    "            for i in fp:\n",
    "                pdf_text +=i.getText()\n",
    "        pdf_text = re.sub('[^0-9a-zA-Z]+', ' ', pdf_text)\n",
    "        with open('FDA_texts/{}.txt'.format(entry['query_id']), 'w') as fp:\n",
    "            fp.write(pdf_text)\n",
    "    except:\n",
    "        continue\n",
    "\n",
    "# df = pd.DataFrame(entries)\n",
    "# df.to_csv('scrape.csv')"
   ]
  },
  {
   "cell_type": "code",
   "execution_count": null,
   "metadata": {},
   "outputs": [],
   "source": []
  }
 ],
 "metadata": {
  "kernelspec": {
   "display_name": "Python 3.10.4 ('ai-samd-fda')",
   "language": "python",
   "name": "python3"
  },
  "language_info": {
   "codemirror_mode": {
    "name": "ipython",
    "version": 3
   },
   "file_extension": ".py",
   "mimetype": "text/x-python",
   "name": "python",
   "nbconvert_exporter": "python",
   "pygments_lexer": "ipython3",
   "version": "3.10.4"
  },
  "vscode": {
   "interpreter": {
    "hash": "5314d2eea9f1d663cf4d7261c24de1d363d7ce8921e0826057e33b987219c11a"
   }
  }
 },
 "nbformat": 4,
 "nbformat_minor": 4
}
