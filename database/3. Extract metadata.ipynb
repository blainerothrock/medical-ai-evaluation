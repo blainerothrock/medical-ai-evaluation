{
 "cells": [
  {
   "cell_type": "code",
   "execution_count": 2,
   "metadata": {},
   "outputs": [],
   "source": [
    "import pandas as pd\n",
    "from nltk.tokenize import RegexpTokenizer\n",
    "import re\n",
    "import numpy as np\n",
    "from collections import defaultdict\n",
    "import pandas as pd\n",
    "from bs4 import BeautifulSoup\n",
    "import requests\n",
    "import os\n",
    "import PyPDF2\n",
    "import fitz\n",
    "import re"
   ]
  },
  {
   "cell_type": "code",
   "execution_count": 3,
   "metadata": {},
   "outputs": [],
   "source": [
    "approvals = list(pd.read_csv('aiml_dfs/aiml_list.csv')['0'].values)"
   ]
  },
  {
   "cell_type": "code",
   "execution_count": 4,
   "metadata": {},
   "outputs": [],
   "source": [
    "# Feature name mapping for HTML\n",
    "mapping = {'Device Classification Name': 'device_classification_name',\n",
    "          '510(k) Number': 'approval_number',\n",
    "           'De Novo Number': 'approval_number',\n",
    "          'Device Name': 'device_name',\n",
    "          'Applicant': 'applicant_name',\n",
    "           'Requester': 'applicant_name',\n",
    "          'Applicant Contact': 'applicant_contact',\n",
    "          'Correspondent': 'correspondent_name',\n",
    "          'Regulation Number': 'regulation_number',\n",
    "          'Classification Product Code': 'classification_product_code',\n",
    "          'Date Received': 'date_received',\n",
    "          'Decision Date': 'decision_date',\n",
    "           'Decision': 'decision',\n",
    "           'Classification Advisory Committee': 'classification_advisory',\n",
    "           'Review Advisory Committee': 'review_advisory',\n",
    "           'Regulation Medical Specialty': 'regulation_medical_specialty',\n",
    "           '510k Review Panel': 'review_panel',\n",
    "           'statement': 'summary_link',\n",
    "           'summary': 'summary_link',\n",
    "           'FDA Review': 'summary_link',\n",
    "           'Reclassification Order': 'reclass_link',\n",
    "           'Type': 'type',\n",
    "           'Reviewed by Third Party': 'reviewed_by_third_party',\n",
    "           'Combination Product': 'combination_product'\n",
    "          }"
   ]
  },
  {
   "cell_type": "code",
   "execution_count": 5,
   "metadata": {},
   "outputs": [
    {
     "ename": "FileNotFoundError",
     "evalue": "[Errno 2] No such file or directory: 'FDA_htmls/K201103.html'",
     "output_type": "error",
     "traceback": [
      "\u001b[0;31m---------------------------------------------------------------------------\u001b[0m",
      "\u001b[0;31mFileNotFoundError\u001b[0m                         Traceback (most recent call last)",
      "\u001b[1;32m/Users/b/develop/medical-ai-evaluation/database/3. Extract metadata.ipynb Cell 4'\u001b[0m in \u001b[0;36m<cell line: 3>\u001b[0;34m()\u001b[0m\n\u001b[1;32m      <a href='vscode-notebook-cell:/Users/b/develop/medical-ai-evaluation/database/3.%20Extract%20metadata.ipynb#ch0000003?line=0'>1</a>\u001b[0m entries \u001b[39m=\u001b[39m []\n\u001b[1;32m      <a href='vscode-notebook-cell:/Users/b/develop/medical-ai-evaluation/database/3.%20Extract%20metadata.ipynb#ch0000003?line=2'>3</a>\u001b[0m \u001b[39mfor\u001b[39;00m approval \u001b[39min\u001b[39;00m approvals:\n\u001b[1;32m      <a href='vscode-notebook-cell:/Users/b/develop/medical-ai-evaluation/database/3.%20Extract%20metadata.ipynb#ch0000003?line=3'>4</a>\u001b[0m \n\u001b[1;32m      <a href='vscode-notebook-cell:/Users/b/develop/medical-ai-evaluation/database/3.%20Extract%20metadata.ipynb#ch0000003?line=4'>5</a>\u001b[0m     \u001b[39m# Parse metadata from FDA website\u001b[39;00m\n\u001b[0;32m----> <a href='vscode-notebook-cell:/Users/b/develop/medical-ai-evaluation/database/3.%20Extract%20metadata.ipynb#ch0000003?line=5'>6</a>\u001b[0m     \u001b[39mwith\u001b[39;00m \u001b[39mopen\u001b[39;49m(\u001b[39m'\u001b[39;49m\u001b[39mFDA_htmls/\u001b[39;49m\u001b[39m{}\u001b[39;49;00m\u001b[39m.html\u001b[39;49m\u001b[39m'\u001b[39;49m\u001b[39m.\u001b[39;49mformat(approval), \u001b[39m'\u001b[39;49m\u001b[39mr\u001b[39;49m\u001b[39m'\u001b[39;49m) \u001b[39mas\u001b[39;00m fp:\n\u001b[1;32m      <a href='vscode-notebook-cell:/Users/b/develop/medical-ai-evaluation/database/3.%20Extract%20metadata.ipynb#ch0000003?line=6'>7</a>\u001b[0m         soup \u001b[39m=\u001b[39m BeautifulSoup(fp)\n\u001b[1;32m      <a href='vscode-notebook-cell:/Users/b/develop/medical-ai-evaluation/database/3.%20Extract%20metadata.ipynb#ch0000003?line=7'>8</a>\u001b[0m     entry \u001b[39m=\u001b[39m {}\n",
      "\u001b[0;31mFileNotFoundError\u001b[0m: [Errno 2] No such file or directory: 'FDA_htmls/K201103.html'"
     ]
    }
   ],
   "source": [
    "entries = []\n",
    "\n",
    "for approval in approvals:\n",
    "\n",
    "    # Parse metadata from FDA website\n",
    "    with open('FDA_htmls/{}.html'.format(approval), 'r') as fp:\n",
    "        soup = BeautifulSoup(fp)\n",
    "    entry = {}\n",
    "    entry['query_id'] = approval\n",
    "    for table in soup.findAll('table', {'align': 'center', 'style': 'text-transform: capitalize'}):\n",
    "        for tr in table.findAll('tr'):\n",
    "            try:\n",
    "                th = tr.find('th').text\n",
    "            except:\n",
    "                continue\n",
    "\n",
    "            for k, v in mapping.items():\n",
    "                if k in th:\n",
    "                    if v == 'summary_link':\n",
    "                        link = tr.find('a', href=True)['href']\n",
    "                        if len(link) == 0:\n",
    "                            link = tr.find('A', href=True)['HREF']\n",
    "                        entry[v] = link.strip().lower().replace('\\n', ' ').replace('\\r', ' ').replace('\\t', ' ')\n",
    "                    else:\n",
    "                        text = tr.find('td').text\n",
    "                        if len(text) > 0:\n",
    "                            entry[v] = text.strip().lower().replace('\\n', ' ').replace('\\r', ' ').replace('\\t', ' ')\n",
    "    if len(entry) > 0:                    \n",
    "        entries.append(entry)\n",
    "    else:\n",
    "        raise ValueError('No values found for HTML file {}'.format(approval))\n",
    "        \n",
    "df = pd.DataFrame(entries)"
   ]
  },
  {
   "cell_type": "code",
   "execution_count": 21,
   "metadata": {},
   "outputs": [],
   "source": [
    "df.to_csv('aiml_df.csv', index=False)"
   ]
  },
  {
   "cell_type": "code",
   "execution_count": null,
   "metadata": {},
   "outputs": [],
   "source": []
  }
 ],
 "metadata": {
  "kernelspec": {
   "display_name": "Python 3.10.4 ('ai-samd-fda')",
   "language": "python",
   "name": "python3"
  },
  "language_info": {
   "codemirror_mode": {
    "name": "ipython",
    "version": 3
   },
   "file_extension": ".py",
   "mimetype": "text/x-python",
   "name": "python",
   "nbconvert_exporter": "python",
   "pygments_lexer": "ipython3",
   "version": "3.10.4"
  },
  "vscode": {
   "interpreter": {
    "hash": "5314d2eea9f1d663cf4d7261c24de1d363d7ce8921e0826057e33b987219c11a"
   }
  }
 },
 "nbformat": 4,
 "nbformat_minor": 4
}
